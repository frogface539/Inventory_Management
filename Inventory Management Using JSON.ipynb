{
 "cells": [
  {
   "cell_type": "code",
   "execution_count": 66,
   "id": "3b07b566-4b8f-4850-a22e-0b92196c9fc9",
   "metadata": {},
   "outputs": [
    {
     "name": "stdout",
     "output_type": "stream",
     "text": [
      "--------------------MENU-----------------------\n",
      "1001 {'Name': 'Five Star', 'Price': 10, 'Quantity': 90}\n",
      "1002 {'Name': 'BAR ONE', 'Price': 5, 'Quantity': 200}\n",
      "1003 {'Name': 'Snacker', 'Price': 5, 'Quantity': 300}\n",
      "1004 {'Name': 'Cake', 'Price': 500, 'Quantity': 50}\n",
      "------------------------------------------------\n"
     ]
    },
    {
     "name": "stdin",
     "output_type": "stream",
     "text": [
      "Enter Product ID:  1004\n",
      "Enter Quantity:  2\n"
     ]
    },
    {
     "name": "stdout",
     "output_type": "stream",
     "text": [
      "---------------------BILL-------------------------\n",
      "Product ID         :  1004\n",
      "Name               :  Cake\n",
      "Price              :  500\n",
      "Product Quantity   :  2\n",
      "Discount           :  - 100.0\n",
      "GST                :  18 %\n",
      "-------------------------------------------------\n",
      "Billing Amount     :  900.18\n",
      "-------------------------------------------------\n"
     ]
    }
   ],
   "source": [
    "import json #for updation of quantity\n",
    "#JSON will save the Updation in the inventory\n",
    "#jab bhi execute karre hai to hume dictionary ko bhi save karna padega....\n",
    "#we'll read the json file the and then loads the data from JSON file\n",
    "\n",
    "#SAVING THE FILE\n",
    "fd = open(\"Records.json\" , \"r\")\n",
    "js = fd.read()\n",
    "fd.close()\n",
    "\n",
    "\n",
    "products = json.loads(js)\n",
    "\n",
    "#MENU Generation\n",
    "print(\"--------------------MENU-----------------------\")\n",
    "for key in products.keys():\n",
    "    print(key , products[key])\n",
    "print(\"------------------------------------------------\")\n",
    "\n",
    "\n",
    "#BIll Generation\n",
    "pID = str(input(\"Enter Product ID: \"))\n",
    "pQn = int(input(\"Enter Quantity: \"))\n",
    "if(products[pID][\"Quantity\"] >= pQn):\n",
    "    products[pID][\"Quantity\"] = products[pID][\"Quantity\"] - pQn\n",
    "    billAmt =  pQn * products[pID][\"Price\"]\n",
    "    if(billAmt > 500):\n",
    "        print(\"---------------------BILL-------------------------\")\n",
    "        print(\"Product ID         : \" , pID)\n",
    "        print(\"Name               : \" , products[pID][\"Name\"])\n",
    "        print(\"Price              : \" , products[pID][\"Price\"])\n",
    "        print(\"Product Quantity   : \" , pQn)\n",
    "        print(\"Discount           : \" , \"-\" , (10/100)*billAmt)\n",
    "        print(\"GST                : \" , \"18 %\")\n",
    "        print(\"-------------------------------------------------\")    \n",
    "        print(\"Billing Amount     : \" , billAmt - ((10/100)*billAmt) + 18/100) \n",
    "        print(\"-------------------------------------------------\")\n",
    "    else:\n",
    "        print(\"---------------------BILL-------------------------\")\n",
    "        print(\"Product ID         : \" , pID)\n",
    "        print(\"Name               : \" , products[pID][\"Name\"])\n",
    "        print(\"Price              : \" , products[pID][\"Price\"])\n",
    "        print(\"Product Quantity   : \" , pQn)\n",
    "        print(\"GST                : \" , \"18 %\")\n",
    "        print(\"-------------------------------------------------\")    \n",
    "        print(\"Billing Amount     : \" , billAmt + 18/100)\n",
    "        print(\"-------------------------------------------------\")\n",
    "    \n",
    "else:\n",
    "    print(\"SORRY We are Short on that! \")\n",
    "#UPDATING THE VALUES\n",
    "js = json.dumps(products)\n",
    "fd = open(\"Records.json\" , \"w\")\n",
    "fd.write(js)\n",
    "fd.close()"
   ]
  },
  {
   "cell_type": "code",
   "execution_count": null,
   "id": "e3e18b93-27ba-4ee8-82fa-c6ef015cfb71",
   "metadata": {},
   "outputs": [],
   "source": []
  }
 ],
 "metadata": {
  "kernelspec": {
   "display_name": "Python 3 (ipykernel)",
   "language": "python",
   "name": "python3"
  },
  "language_info": {
   "codemirror_mode": {
    "name": "ipython",
    "version": 3
   },
   "file_extension": ".py",
   "mimetype": "text/x-python",
   "name": "python",
   "nbconvert_exporter": "python",
   "pygments_lexer": "ipython3",
   "version": "3.12.7"
  }
 },
 "nbformat": 4,
 "nbformat_minor": 5
}
